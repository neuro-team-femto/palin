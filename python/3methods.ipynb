{
 "cells": [
  {
   "cell_type": "code",
   "execution_count": 1,
   "id": "32cf6434",
   "metadata": {
    "ExecuteTime": {
     "end_time": "2025-03-05T17:37:33.963155Z",
     "start_time": "2025-03-05T17:37:33.927960Z"
    }
   },
   "outputs": [],
   "source": [
    "%load_ext autoreload\n",
    "%autoreload 2"
   ]
  },
  {
   "cell_type": "code",
   "execution_count": 2,
   "id": "3f184a28",
   "metadata": {
    "ExecuteTime": {
     "end_time": "2025-03-05T17:37:35.239413Z",
     "start_time": "2025-03-05T17:37:34.116478Z"
    }
   },
   "outputs": [],
   "source": [
    "import os, sys\n",
    "import numpy as np\n",
    "import pandas as pd\n",
    "import seaborn as sns\n",
    "from matplotlib import pyplot as plt"
   ]
  },
  {
   "cell_type": "code",
   "execution_count": 3,
   "id": "986fac64",
   "metadata": {
    "ExecuteTime": {
     "end_time": "2025-03-05T17:37:35.292400Z",
     "start_time": "2025-03-05T17:37:35.240398Z"
    }
   },
   "outputs": [],
   "source": [
    "sys.path.insert(0, os.path.abspath('../palin/python'))"
   ]
  },
  {
   "cell_type": "code",
   "execution_count": 4,
   "id": "6d8c3479",
   "metadata": {
    "ExecuteTime": {
     "end_time": "2025-03-05T17:37:35.689626Z",
     "start_time": "2025-03-05T17:37:35.293208Z"
    }
   },
   "outputs": [],
   "source": [
    "#from palin.simulation import Experiment\n",
    "from palin.simulation.experiment import Experiment\n",
    "from palin.simulation.analyser import Analyser\n",
    "from palin.simulation.experiments.simple_experiment import SimpleExperiment\n",
    "from palin.simulation.experiments.double_pass_experiment import DoublePassExperiment\n",
    "from palin.simulation.trial import Int2Trial, Int1Trial \n",
    "from palin.simulation.observers.linear_observer import LinearObserver\n",
    "from palin.simulation.analysers.kernel_distance import KernelDistance\n",
    "from palin.simulation.analysers.internal_noise_value import InternalNoiseValue\n",
    "from palin.kernels.classification_images import ClassificationImage\n",
    "from palin.internal_noise.double_pass import DoublePass\n",
    "from palin.internal_noise.intercept_method import InterceptMethod\n",
    "from palin.simulation.simulation import Simulation as Sim\n",
    "from palin.simulation.analysers.agreement_statistics import AgreementStatistics\n",
    "from palin.internal_noise.agreement_method import AgreementMethod\n",
    "from palin.kernels.glm_kernel import GLMKernel\n",
    "from palin.internal_noise.glm_method import GLMMethod\n"
   ]
  },
  {
   "cell_type": "markdown",
   "id": "fc5e2027",
   "metadata": {},
   "source": [
    "# Three new algorithms to estimate observer internal noise without double-pass measurements\n",
    "\n",
    "&copy; Aynaz Adl Zarrabi, Jean-Julien Aucouturier, Ladislas Nalborczyk, Marie Villain"
   ]
  },
  {
   "cell_type": "markdown",
   "id": "1ffb302e",
   "metadata": {},
   "source": [
    "## Methods"
   ]
  },
  {
   "cell_type": "markdown",
   "id": "97db993a",
   "metadata": {},
   "source": [
    "### Consistency methods"
   ]
  },
  {
   "cell_type": "markdown",
   "id": "4005e10e",
   "metadata": {},
   "source": [
    "#### Forward and inverse models"
   ]
  },
  {
   "cell_type": "markdown",
   "id": "619add73",
   "metadata": {},
   "source": [
    "- The ideal observer model provides a generative model by which one can simulate the responses given by an observer with a given kernel and internal noise level, to arbitrary stimuli.  \n",
    "- From these responses, one can evaluate a probability of agreement between duplicated trials (forward model). This model is stochastic: for a given observer, and a given experiment, responses have stochasticity because of internal noise realizations, and so does probability of agreement \n",
    "- the task of internal noise estimation from a real observer's response is the inverse model: from an observation of probability of agreement, find the most plausible internal noise level (hidden variable) that would forward-generate this probability\n",
    "- to extend to the case where observers are biased (i.e a non null response criteria), one can also observe probability of answering the first interval (in a 2AFC design). In which case the forward model maps two hidden variables (internal noise and criteria) to two observations (probability of agreement, and probability of first interval)\n",
    "- to deal with stochasticity, we compute the expected values of the observations (prob_agree, prob_int1) over several realizations of the same simulated experiment (forward model), and therefore aim to estimate the internal noise and criteria for which the observed probabilities are closest to their expected values\n",
    "- a typical practical implementation of this procedure is to simulate observers with an arbitrary kernel (ex. a simple scalar) and a grid of internal noise and criteria values, encountering a single experiment for several runs (ex. 100 or 1000), compute the average corresponding probabilities for each internal noise and criteria; store this as a lookup table; then given a real observation of probabilities for a real observer, find the pair of internal noise and criteria that correspond to the closest pair of probabilities in the table. "
   ]
  },
  {
   "cell_type": "code",
   "execution_count": null,
   "id": "38f694b3",
   "metadata": {
    "ExecuteTime": {
     "end_time": "2025-03-05T17:37:17.299608Z",
     "start_time": "2025-03-05T17:29:56.541890Z"
    }
   },
   "outputs": [],
   "source": [
    "AgreementMethod.build_model(agreement_model_file = './double_pass_model.csv',\n",
    "                            internal_noise_range=np.arange(0,5,.1),\n",
    "                            criteria_range=np.arange(-5,5,.5), \n",
    "                            n_repeated_trials=100, \n",
    "                            n_runs=100) "
   ]
  },
  {
   "cell_type": "code",
   "execution_count": 20,
   "id": "c391ed57",
   "metadata": {
    "ExecuteTime": {
     "end_time": "2025-03-05T17:47:20.055156Z",
     "start_time": "2025-03-05T17:47:19.984637Z"
    }
   },
   "outputs": [
    {
     "data": {
      "text/html": [
       "<div>\n",
       "<style scoped>\n",
       "    .dataframe tbody tr th:only-of-type {\n",
       "        vertical-align: middle;\n",
       "    }\n",
       "\n",
       "    .dataframe tbody tr th {\n",
       "        vertical-align: top;\n",
       "    }\n",
       "\n",
       "    .dataframe thead th {\n",
       "        text-align: right;\n",
       "    }\n",
       "</style>\n",
       "<table border=\"1\" class=\"dataframe\">\n",
       "  <thead>\n",
       "    <tr style=\"text-align: right;\">\n",
       "      <th></th>\n",
       "      <th>internal_noise_std</th>\n",
       "      <th>criteria</th>\n",
       "      <th>prob_agree</th>\n",
       "      <th>prob_first</th>\n",
       "    </tr>\n",
       "  </thead>\n",
       "  <tbody>\n",
       "    <tr>\n",
       "      <th>0</th>\n",
       "      <td>0.0</td>\n",
       "      <td>-5</td>\n",
       "      <td>1.00000</td>\n",
       "      <td>0.99988</td>\n",
       "    </tr>\n",
       "    <tr>\n",
       "      <th>1</th>\n",
       "      <td>0.0</td>\n",
       "      <td>-4</td>\n",
       "      <td>1.00000</td>\n",
       "      <td>0.99760</td>\n",
       "    </tr>\n",
       "    <tr>\n",
       "      <th>2</th>\n",
       "      <td>0.0</td>\n",
       "      <td>-3</td>\n",
       "      <td>1.00000</td>\n",
       "      <td>0.98288</td>\n",
       "    </tr>\n",
       "    <tr>\n",
       "      <th>3</th>\n",
       "      <td>0.0</td>\n",
       "      <td>-2</td>\n",
       "      <td>1.00000</td>\n",
       "      <td>0.92036</td>\n",
       "    </tr>\n",
       "    <tr>\n",
       "      <th>4</th>\n",
       "      <td>0.0</td>\n",
       "      <td>-1</td>\n",
       "      <td>1.00000</td>\n",
       "      <td>0.75676</td>\n",
       "    </tr>\n",
       "    <tr>\n",
       "      <th>...</th>\n",
       "      <td>...</td>\n",
       "      <td>...</td>\n",
       "      <td>...</td>\n",
       "      <td>...</td>\n",
       "    </tr>\n",
       "    <tr>\n",
       "      <th>495</th>\n",
       "      <td>4.9</td>\n",
       "      <td>0</td>\n",
       "      <td>0.52124</td>\n",
       "      <td>0.49998</td>\n",
       "    </tr>\n",
       "    <tr>\n",
       "      <th>496</th>\n",
       "      <td>4.9</td>\n",
       "      <td>1</td>\n",
       "      <td>0.53232</td>\n",
       "      <td>0.42424</td>\n",
       "    </tr>\n",
       "    <tr>\n",
       "      <th>497</th>\n",
       "      <td>4.9</td>\n",
       "      <td>2</td>\n",
       "      <td>0.56752</td>\n",
       "      <td>0.34608</td>\n",
       "    </tr>\n",
       "    <tr>\n",
       "      <th>498</th>\n",
       "      <td>4.9</td>\n",
       "      <td>3</td>\n",
       "      <td>0.61634</td>\n",
       "      <td>0.27841</td>\n",
       "    </tr>\n",
       "    <tr>\n",
       "      <th>499</th>\n",
       "      <td>4.9</td>\n",
       "      <td>4</td>\n",
       "      <td>0.67642</td>\n",
       "      <td>0.21375</td>\n",
       "    </tr>\n",
       "  </tbody>\n",
       "</table>\n",
       "<p>500 rows × 4 columns</p>\n",
       "</div>"
      ],
      "text/plain": [
       "     internal_noise_std  criteria  prob_agree  prob_first\n",
       "0                   0.0        -5     1.00000     0.99988\n",
       "1                   0.0        -4     1.00000     0.99760\n",
       "2                   0.0        -3     1.00000     0.98288\n",
       "3                   0.0        -2     1.00000     0.92036\n",
       "4                   0.0        -1     1.00000     0.75676\n",
       "..                  ...       ...         ...         ...\n",
       "495                 4.9         0     0.52124     0.49998\n",
       "496                 4.9         1     0.53232     0.42424\n",
       "497                 4.9         2     0.56752     0.34608\n",
       "498                 4.9         3     0.61634     0.27841\n",
       "499                 4.9         4     0.67642     0.21375\n",
       "\n",
       "[500 rows x 4 columns]"
      ]
     },
     "execution_count": 20,
     "metadata": {},
     "output_type": "execute_result"
    }
   ],
   "source": [
    "model_df = pd.read_csv('./agreement_model_large.csv')\n",
    "model_df"
   ]
  },
  {
   "cell_type": "code",
   "execution_count": null,
   "id": "0ff5aa5c",
   "metadata": {},
   "outputs": [],
   "source": []
  }
 ],
 "metadata": {
  "kernelspec": {
   "display_name": "Python 3 (ipykernel)",
   "language": "python",
   "name": "python3"
  },
  "language_info": {
   "codemirror_mode": {
    "name": "ipython",
    "version": 3
   },
   "file_extension": ".py",
   "mimetype": "text/x-python",
   "name": "python",
   "nbconvert_exporter": "python",
   "pygments_lexer": "ipython3",
   "version": "3.8.10"
  },
  "toc": {
   "base_numbering": 1,
   "nav_menu": {},
   "number_sections": true,
   "sideBar": true,
   "skip_h1_title": true,
   "title_cell": "Table of Contents",
   "title_sidebar": "Contents",
   "toc_cell": false,
   "toc_position": {},
   "toc_section_display": true,
   "toc_window_display": true
  }
 },
 "nbformat": 4,
 "nbformat_minor": 5
}
